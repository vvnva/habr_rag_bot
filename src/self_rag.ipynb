{
 "cells": [
  {
   "cell_type": "code",
   "execution_count": null,
   "metadata": {},
   "outputs": [],
   "source": [
    "from transformers import AutoTokenizer\n",
    "from vllm import LLM, SamplingParams\n",
    "from langchain.prompts import PromptTemplate\n",
    "\n",
    "model_name = \"t-tech/T-lite-it-1.0\" # Указание устройства CPU\n",
    "llm = LLM(model=model_name, max_model_len=8192, device=\"cpu\")\n",
    "sampling_params = SamplingParams(temperature=0.7, repetition_penalty=1.05, top_p=0.8, top_k=70)\n",
    "\n",
    "from transformers import AutoTokenizer\n",
    "tokenizer = AutoTokenizer.from_pretrained(model_name)\n",
    "\n",
    "prompt = PromptTemplate(\n",
    "    input_variables=[\"system_prompt\", \"context\", \"question\"],\n",
    "    template=\"System: {system_prompt}\\nContext: {context}\\nQuestion: {question}\"\n",
    ")\n",
    "\n",
    "def generate_answer(query, retriever):\n",
    "    relevant_docs = retriever.get_relevant_documents(query)\n",
    "    context = \"\\n\".join([doc.page_content for doc in relevant_docs])\n",
    "    system_prompt = \"Ты T-lite, виртуальный ассистент в Т-Технологии. Твоя задача - быть полезным диалоговым ассистентом.\"\n",
    "    input_text = prompt.format(\n",
    "        system_prompt=system_prompt,\n",
    "        context=context,\n",
    "        question=query\n",
    "    )\n",
    "\n",
    "\n",
    "    prompt_token_ids = tokenizer(input_text, return_tensors=\"pt\").input_ids\n",
    "\n",
    "    outputs = llm.generate(prompt_token_ids=prompt_token_ids, sampling_params=sampling_params)\n",
    "    generated_text = outputs[0].outputs[0].text\n",
    "\n",
    "    return generated_text\n",
    "\n",
    "\n",
    "queries = [\"Что такое FAISS?\", \"Как работает GPT?\", \"Что такое векторные базы данных?\"]\n",
    "\n",
    "for query in tqdm(queries, desc=\"Processing queries\"):\n",
    "    answer = generate_answer(query, retriever)\n",
    "    print(f\"Вопрос: {query}\")\n",
    "    print(f\"Ответ: {answer}\\n\")\n"
   ]
  }
 ],
 "metadata": {
  "kernelspec": {
   "display_name": ".venv",
   "language": "python",
   "name": "python3"
  },
  "language_info": {
   "name": "python",
   "version": "3.12.6"
  }
 },
 "nbformat": 4,
 "nbformat_minor": 2
}
