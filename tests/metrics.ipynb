{
 "cells": [
  {
   "cell_type": "code",
   "execution_count": 1,
   "metadata": {},
   "outputs": [
    {
     "data": {
      "text/plain": [
       "True"
      ]
     },
     "execution_count": 1,
     "metadata": {},
     "output_type": "execute_result"
    }
   ],
   "source": [
    "import pandas as pd \n",
    "import matplotlib.pyplot as plt \n",
    "import sys\n",
    "import os\n",
    "sys.path.append(os.path.abspath(\"..\"))\n",
    "\n",
    "from src.vector_db.qdrant import get_qdrant_retriever\n",
    "from test_retrieve import show_statistics\n",
    "\n",
    "from dotenv import load_dotenv\n",
    "load_dotenv()"
   ]
  },
  {
   "cell_type": "markdown",
   "metadata": {},
   "source": [
    "## Precision and MAP Formulas\n",
    "\n",
    "**Precision@k:**\n",
    "P@k = (число релевантных документов в первых k результатах) / k\n",
    "\n",
    "**Mean Average Precision (MAP):**\n",
    "MAP = (1 / N) * Σ (P@i)\n",
    "где:\n",
    "   - N = общее число релевантных документов\n",
    "   - P@i = Precision, вычисленный на каждой позиции i, где документ релевантен\n",
    "\n"
   ]
  },
  {
   "cell_type": "markdown",
   "metadata": {},
   "source": [
    "## Блок кода для веры без компьютера"
   ]
  },
  {
   "cell_type": "code",
   "execution_count": 2,
   "metadata": {},
   "outputs": [
    {
     "name": "stdout",
     "output_type": "stream",
     "text": [
      "Statistics:\n",
      "Precision at k: {'pk@1': 0.0, 'pk@2': 0.0, 'pk@3': 0.0, 'pk@4': 0.05, 'pk@5': 0.08, 'pk@10': 0.1}\n",
      "Mean Average Precision: 0.08092063492063492\n"
     ]
    },
    {
     "data": {
      "image/png": "[encoded data removed]",
      "text/plain": [
       "<Figure size 1000x800 with 1 Axes>"
      ]
     },
     "metadata": {},
     "output_type": "display_data"
    }
   ],
   "source": [
    "import pandas as pd\n",
    "import random\n",
    "\n",
    "data = {\n",
    "    \"question\": [\n",
    "        \"What is the capital of France?\",\n",
    "        \"Explain the theory of relativity\",\n",
    "        \"What are the symptoms of COVID-19?\",\n",
    "        \"How to bake a cake?\",\n",
    "        \"What is quantum computing?\"\n",
    "    ],\n",
    "    \"gold_urls\": [\n",
    "        [f\"https://gold.france.com/doc_{i}\" for i in range(10)],\n",
    "        [f\"https://gold.physics.com/doc_{i}\" for i in range(10)],\n",
    "        [f\"https://gold.health.com/doc_{i}\" for i in range(10)],\n",
    "        [f\"https://gold.cooking.com/doc_{i}\" for i in range(10)],\n",
    "        [f\"https://gold.tech.com/doc_{i}\" for i in range(10)],\n",
    "    ]\n",
    "}\n",
    "\n",
    "df = pd.DataFrame(data)\n",
    "\n",
    "class MockDocument:\n",
    "    def __init__(self, link, score):\n",
    "        self.metadata = {\"link\": link}\n",
    "        self.score = score\n",
    "\n",
    "class MockRetriever:\n",
    "    def __init__(self, total_docs=10):\n",
    "        self.total_docs = total_docs\n",
    "\n",
    "    def get_relevant_documents(self, query):\n",
    "        documents = [\n",
    "            MockDocument(f\"https://mocksite.com/doc_{i}\", random.uniform(0, 0.5))\n",
    "            for i in range(self.total_docs - 5)\n",
    "        ]\n",
    "\n",
    "        relevant_docs = [\n",
    "            MockDocument(link, random.uniform(0.8, 1))\n",
    "            for link in random.sample(data[\"gold_urls\"][random.randint(0, len(data[\"gold_urls\"]) - 1)], k=5)\n",
    "        ]\n",
    "\n",
    "        documents.extend(relevant_docs)\n",
    "        documents = sorted(documents, key=lambda x: x.score, reverse=True)\n",
    "        return documents[:self.total_docs]\n",
    "\n",
    "retriever = MockRetriever(total_docs=10)\n",
    "\n",
    "show_statistics(df, retriever)\n"
   ]
  },
  {
   "cell_type": "markdown",
   "metadata": {},
   "source": [
    "## Retrieve metrics"
   ]
  },
  {
   "cell_type": "code",
   "execution_count": null,
   "metadata": {},
   "outputs": [],
   "source": [
    "df = pd.read_csv(\"data_with_labels.csv\")"
   ]
  },
  {
   "cell_type": "code",
   "execution_count": null,
   "metadata": {},
   "outputs": [],
   "source": [
    "retriever = get_qdrant_retriever()\n",
    "qdrant_retriever = retriever.as_retriever(search_kwargs={\"k\": 10}, verbose=True)"
   ]
  },
  {
   "cell_type": "code",
   "execution_count": null,
   "metadata": {},
   "outputs": [],
   "source": [
    "\n",
    "show_statistics(df, qdrant_retriever)"
   ]
  },
  {
   "cell_type": "markdown",
   "metadata": {},
   "source": [
    "## Generation metrics"
   ]
  },
  {
   "cell_type": "code",
   "execution_count": null,
   "metadata": {},
   "outputs": [],
   "source": []
  }
 ],
 "metadata": {
  "kernelspec": {
   "display_name": ".habr_rag_env",
   "language": "python",
   "name": "python3"
  },
  "language_info": {
   "codemirror_mode": {
    "name": "ipython",
    "version": 3
   },
   "file_extension": ".py",
   "mimetype": "text/x-python",
   "name": "python",
   "nbconvert_exporter": "python",
   "pygments_lexer": "ipython3",
   "version": "3.12.4"
  }
 },
 "nbformat": 4,
 "nbformat_minor": 2
}
