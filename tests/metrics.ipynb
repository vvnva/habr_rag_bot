{
 "cells": [
  {
   "cell_type": "code",
   "execution_count": 1,
   "metadata": {},
   "outputs": [],
   "source": [
    "import pandas as pd \n",
    "from test_retrieve import compute_metrics_from_df"
   ]
  },
  {
   "cell_type": "markdown",
   "metadata": {},
   "source": [
    "## Precision and MAP Formulas\n",
    "\n",
    "**Precision@k:**\n",
    "P@k = (число релевантных документов в первых k результатах) / k\n",
    "\n",
    "**Mean Average Precision (MAP):**\n",
    "MAP = (1 / N) * Σ (P@i)\n",
    "где:\n",
    "   - N = общее число релевантных документов\n",
    "   - P@i = Precision, вычисленный на каждой позиции i, где документ релевантен\n",
    "\n"
   ]
  },
  {
   "cell_type": "markdown",
   "metadata": {},
   "source": [
    "## Retrieve metrics\n",
    "До этого прогнали вопросы на ретрив до 10 для 75 заданных вопросов, получили линк+заголовок+контент документов, разметили второем, сюда загружаем разметку"
   ]
  },
  {
   "cell_type": "code",
   "execution_count": 2,
   "metadata": {},
   "outputs": [
    {
     "data": {
      "text/html": [
       "<div>\n",
       "<style scoped>\n",
       "    .dataframe tbody tr th:only-of-type {\n",
       "        vertical-align: middle;\n",
       "    }\n",
       "\n",
       "    .dataframe tbody tr th {\n",
       "        vertical-align: top;\n",
       "    }\n",
       "\n",
       "    .dataframe thead th {\n",
       "        text-align: right;\n",
       "    }\n",
       "</style>\n",
       "<table border=\"1\" class=\"dataframe\">\n",
       "  <thead>\n",
       "    <tr style=\"text-align: right;\">\n",
       "      <th></th>\n",
       "      <th>question</th>\n",
       "      <th>link</th>\n",
       "      <th>title</th>\n",
       "      <th>page_content</th>\n",
       "      <th>is_link_relevant</th>\n",
       "    </tr>\n",
       "  </thead>\n",
       "  <tbody>\n",
       "    <tr>\n",
       "      <th>0</th>\n",
       "      <td>Как работают нейронные сети?</td>\n",
       "      <td>https://habr.com/ru/post/258003/</td>\n",
       "      <td>Искусственный интеллект в Wolfram Language: пр...</td>\n",
       "      <td>Итак, систему какого типа нам нужно использова...</td>\n",
       "      <td>1</td>\n",
       "    </tr>\n",
       "    <tr>\n",
       "      <th>1</th>\n",
       "      <td>Как работают нейронные сети?</td>\n",
       "      <td>https://habr.com/ru/post/324564/</td>\n",
       "      <td>Разработка R&amp;D-;проектов продолжается: запуск ...</td>\n",
       "      <td>Много сил требует обработка нейронных сетей ка...</td>\n",
       "      <td>0</td>\n",
       "    </tr>\n",
       "    <tr>\n",
       "      <th>2</th>\n",
       "      <td>Как работают нейронные сети?</td>\n",
       "      <td>https://habr.com/ru/post/333492/</td>\n",
       "      <td>Использование нейронных сетей для распознавани...</td>\n",
       "      <td>До сих пор мы использовали нейронные сети, в к...</td>\n",
       "      <td>1</td>\n",
       "    </tr>\n",
       "    <tr>\n",
       "      <th>3</th>\n",
       "      <td>Как работают нейронные сети?</td>\n",
       "      <td>https://habr.com/ru/post/715682/</td>\n",
       "      <td>[Научпоп с кодом] Что такое «жидкая» нейросеть...</td>\n",
       "      <td>Команда работает над улучшением архитектуры св...</td>\n",
       "      <td>0</td>\n",
       "    </tr>\n",
       "    <tr>\n",
       "      <th>4</th>\n",
       "      <td>Как работают нейронные сети?</td>\n",
       "      <td>https://habr.com/ru/post/419509/</td>\n",
       "      <td>Фотонная искусственная нейронная сеть</td>\n",
       "      <td>Фотонная искусственная нейронная сеть\\nВ одной...</td>\n",
       "      <td>0</td>\n",
       "    </tr>\n",
       "  </tbody>\n",
       "</table>\n",
       "</div>"
      ],
      "text/plain": [
       "                       question                              link  \\\n",
       "0  Как работают нейронные сети?  https://habr.com/ru/post/258003/   \n",
       "1  Как работают нейронные сети?  https://habr.com/ru/post/324564/   \n",
       "2  Как работают нейронные сети?  https://habr.com/ru/post/333492/   \n",
       "3  Как работают нейронные сети?  https://habr.com/ru/post/715682/   \n",
       "4  Как работают нейронные сети?  https://habr.com/ru/post/419509/   \n",
       "\n",
       "                                               title  \\\n",
       "0  Искусственный интеллект в Wolfram Language: пр...   \n",
       "1  Разработка R&D-;проектов продолжается: запуск ...   \n",
       "2  Использование нейронных сетей для распознавани...   \n",
       "3  [Научпоп с кодом] Что такое «жидкая» нейросеть...   \n",
       "4              Фотонная искусственная нейронная сеть   \n",
       "\n",
       "                                        page_content  is_link_relevant  \n",
       "0  Итак, систему какого типа нам нужно использова...                 1  \n",
       "1  Много сил требует обработка нейронных сетей ка...                 0  \n",
       "2  До сих пор мы использовали нейронные сети, в к...                 1  \n",
       "3  Команда работает над улучшением архитектуры св...                 0  \n",
       "4  Фотонная искусственная нейронная сеть\\nВ одной...                 0  "
      ]
     },
     "execution_count": 2,
     "metadata": {},
     "output_type": "execute_result"
    }
   ],
   "source": [
    "df_vera = pd.read_excel(\"Vera_1-25.xlsx\", index_col=0)\n",
    "df_nikita = pd.read_excel(\"Nikita_51-75.xlsx\", index_col=0)\n",
    "#df_vanya = pd.read_excel(\"Vanya_26-50.xslx\", index_col=0)\n",
    "df = pd.concat([df_vera, df_nikita], axis=0).reset_index(drop=True)\n",
    "df.head(5)"
   ]
  },
  {
   "cell_type": "code",
   "execution_count": 3,
   "metadata": {},
   "outputs": [
    {
     "data": {
      "text/plain": [
       "Index(['question', 'link', 'title', 'page_content', 'is_link_relevant'], dtype='object')"
      ]
     },
     "execution_count": 3,
     "metadata": {},
     "output_type": "execute_result"
    }
   ],
   "source": [
    "df.columns"
   ]
  },
  {
   "cell_type": "code",
   "execution_count": 4,
   "metadata": {},
   "outputs": [
    {
     "name": "stdout",
     "output_type": "stream",
     "text": [
      "Precision at k:\n",
      "p@1: 0.5400\n",
      "p@2: 0.6800\n",
      "p@3: 0.8600\n",
      "p@4: 0.9000\n",
      "p@5: 0.9400\n",
      "p@10: 0.9800\n",
      "Mean Average Precision (MAP): 0.6051\n"
     ]
    },
    {
     "data": {
      "image/png": "[encoded data removed]",
      "text/plain": [
       "<Figure size 1000x600 with 1 Axes>"
      ]
     },
     "metadata": {},
     "output_type": "display_data"
    }
   ],
   "source": [
    "compute_metrics_from_df(df)"
   ]
  },
  {
   "cell_type": "markdown",
   "metadata": {},
   "source": [
    "## Generation metrics\n",
    "На тех же 75 вопросах подготовили генерации, разметили"
   ]
  },
  {
   "cell_type": "code",
   "execution_count": null,
   "metadata": {},
   "outputs": [],
   "source": []
  },
  {
   "cell_type": "code",
   "execution_count": null,
   "metadata": {},
   "outputs": [],
   "source": []
  }
 ],
 "metadata": {
  "kernelspec": {
   "display_name": ".habr_rag_env",
   "language": "python",
   "name": "python3"
  },
  "language_info": {
   "codemirror_mode": {
    "name": "ipython",
    "version": 3
   },
   "file_extension": ".py",
   "mimetype": "text/x-python",
   "name": "python",
   "nbconvert_exporter": "python",
   "pygments_lexer": "ipython3",
   "version": "3.12.4"
  }
 },
 "nbformat": 4,
 "nbformat_minor": 2
}
